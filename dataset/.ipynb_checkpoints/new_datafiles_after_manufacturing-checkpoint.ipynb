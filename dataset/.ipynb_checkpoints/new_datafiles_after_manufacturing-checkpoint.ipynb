{
 "cells": [
  {
   "cell_type": "markdown",
   "id": "43b5f256-63d8-4e27-8a10-230b964cc999",
   "metadata": {},
   "source": [
    "## Writing the file with datapoints available for hardness value"
   ]
  },
  {
   "cell_type": "code",
   "execution_count": 29,
   "id": "ddfeffcb-8e67-4d08-9bf5-7f74f67b6d01",
   "metadata": {},
   "outputs": [],
   "source": [
    "## Misc functions for data editing\n",
    "# For HEA dataset\n",
    "import os\n",
    "import numpy as np\n",
    "import pandas as pd\n",
    "import pymatgen as mg\n",
    "from pymatgen.core.composition import Composition\n",
    "\n",
    "\n",
    "manufactured = pd.read_csv(datafile_path+'/third_pass/recommendations.csv')\n",
    "\n",
    "new_index = manufactured['index']\n",
    "datafile_path = '/Users/maitreyeesharma/WORKSPACE/PostDoc/EngChem/Space@Hopkins_HEA/dataset/'\n",
    "unique_alloys_training = pd.read_csv(datafile_path+'curated_MPEA_initial_training_hardness_value.csv')\n",
    "unique_alloys_test = pd.read_csv(datafile_path+'/third_pass/curated_MPEA_initial_test_hardness_value.csv')\n",
    "\n",
    "i_manufactured = 0\n",
    "for i_manu in new_index:\n",
    "    new_training_index = len(unique_alloys_training.index)\n",
    "    unique_alloys_training.loc[new_training_index] = unique_alloys_test.loc[i_manu]\n",
    "    unique_alloys_training['Target'][new_training_index] = manufactured['ExperimentalHardness'][i_manufactured]\n",
    "    i_manufactured +=1\n",
    "\n",
    "unique_alloys_test = unique_alloys_test.drop(new_index)\n",
    "\n",
    "unique_alloys_training.to_csv(datafile_path+'curated_MPEA_initial_training_hardness_value.csv',index=False)\n",
    "unique_alloys_test.to_csv(datafile_path+'curated_MPEA_initial_test_hardness_value.csv',index=False)\n"
   ]
  },
  {
   "cell_type": "markdown",
   "id": "72bb1ca5-f4a2-4feb-a1d1-f2089067ce80",
   "metadata": {},
   "source": [
    "## Writing the file with datapoints available for hardness value for the generate compositions"
   ]
  },
  {
   "cell_type": "code",
   "execution_count": 17,
   "id": "5087fd27-f902-48b7-8eaf-566d00ecfa21",
   "metadata": {},
   "outputs": [],
   "source": [
    "## Misc functions for data editing\n",
    "# For HEA dataset\n",
    "import os\n",
    "import numpy as np\n",
    "import pandas as pd\n",
    "import pymatgen as mg\n",
    "from pymatgen.core.composition import Composition\n",
    "\n",
    "datafile_path = '/Users/maitreyeesharma/WORKSPACE/PostDoc/EngChem/Space@Hopkins_HEA/dataset/'\n",
    "manufactured = pd.read_csv(datafile_path+'/third_pass/recommendations.csv')\n",
    "\n",
    "new_index = manufactured['index']\n",
    "unique_alloys_training = pd.read_csv(datafile_path+'curated_MPEA_initial_training_hardness_value.csv')\n",
    "unique_alloys_test = pd.read_csv(datafile_path+'/third_pass/generated_MPEA_test_hardness.csv')\n",
    "\n",
    "i_manufactured = 0\n",
    "for i_manu in new_index:\n",
    "    new_training_index = len(unique_alloys_training.index)\n",
    "    unique_alloys_training.loc[new_training_index] = unique_alloys_test.loc[i_manu]\n",
    "    unique_alloys_training['Target'][new_training_index] = manufactured['ExperimentalHardness'][i_manufactured]\n",
    "    i_manufactured +=1\n",
    "\n",
    "unique_alloys_test = unique_alloys_test.drop(new_index)\n",
    "\n",
    "# unique_alloys_training.to_csv(datafile_path+'curated_MPEA_initial_training_hardness_value.csv',index=False)\n",
    "unique_alloys_test.to_csv(datafile_path+'generated_MPEA_test_hardness_pass2.csv',index=False)\n"
   ]
  },
  {
   "cell_type": "markdown",
   "id": "9759a450-9b2b-40a1-a091-4a0b51dc558c",
   "metadata": {},
   "source": [
    "## Removing all recommendations made in the previous round"
   ]
  },
  {
   "cell_type": "code",
   "execution_count": 23,
   "id": "2b67570b-0e21-46fc-9d63-3316d641cef7",
   "metadata": {},
   "outputs": [],
   "source": [
    "## Misc functions for data editing\n",
    "# For HEA dataset\n",
    "import os\n",
    "import numpy as np\n",
    "import pandas as pd\n",
    "import pymatgen as mg\n",
    "from pymatgen.core.composition import Composition\n",
    "\n",
    "datafile_path = '/Users/maitreyeesharma/WORKSPACE/PostDoc/EngChem/Space@Hopkins_HEA/dataset/'\n",
    "manufactured = pd.read_csv(datafile_path+'/third_pass/recommendations.csv')\n",
    "recommended = pd.read_csv(datafile_path+'/third_pass/Recommendations_APR24_ebg.csv')\n",
    "\n",
    "new_index = manufactured['index']\n",
    "new_index_recommended = recommended['index']\n",
    "unique_alloys_training = pd.read_csv(datafile_path+'curated_MPEA_initial_training_hardness_value.csv')\n",
    "unique_alloys_test = pd.read_csv(datafile_path+'/third_pass/generated_MPEA_test_hardness.csv')\n",
    "\n",
    "i_manufactured = 0\n",
    "for i_manu in new_index:\n",
    "    new_training_index = len(unique_alloys_training.index)\n",
    "    unique_alloys_training.loc[new_training_index] = unique_alloys_test.loc[i_manu]\n",
    "    unique_alloys_training['Target'][new_training_index] = manufactured['ExperimentalHardness'][i_manufactured]\n",
    "    i_manufactured +=1\n",
    "\n",
    "unique_alloys_test = unique_alloys_test.drop(new_index_recommended)\n",
    "\n",
    "unique_alloys_training.to_csv(datafile_path+'curated_MPEA_initial_training_hardness_value.csv',index=False)\n",
    "unique_alloys_test.to_csv(datafile_path+'generated_MPEA_test_hardness_pass2.csv',index=False)\n"
   ]
  },
  {
   "cell_type": "code",
   "execution_count": null,
   "id": "034eb8cb-3b51-4f5c-8f34-44191ec10321",
   "metadata": {},
   "outputs": [],
   "source": []
  }
 ],
 "metadata": {
  "kernelspec": {
   "display_name": "Python 3 (ipykernel)",
   "language": "python",
   "name": "python3"
  },
  "language_info": {
   "codemirror_mode": {
    "name": "ipython",
    "version": 3
   },
   "file_extension": ".py",
   "mimetype": "text/x-python",
   "name": "python",
   "nbconvert_exporter": "python",
   "pygments_lexer": "ipython3",
   "version": "3.11.2"
  }
 },
 "nbformat": 4,
 "nbformat_minor": 5
}
