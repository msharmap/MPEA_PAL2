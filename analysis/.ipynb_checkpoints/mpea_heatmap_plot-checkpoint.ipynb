{
 "cells": [
  {
   "cell_type": "code",
   "execution_count": 39,
   "metadata": {},
   "outputs": [],
   "source": [
    "import pandas as pd\n",
    "import numpy as np\n",
    "import matplotlib.pyplot as plt\n",
    "from matplotlib.colors import BoundaryNorm"
   ]
  },
  {
   "cell_type": "code",
   "execution_count": 40,
   "metadata": {},
   "outputs": [
    {
     "name": "stdout",
     "output_type": "stream",
     "text": [
      "     Ag     Al    B    C   Ca     Co     Cr     Cu     Fe   Ga  ...   Sc  \\\n",
      "0   0.0  0.000  0.0  0.0  0.0  0.000  0.000  0.000  0.340  0.0  ...  0.0   \n",
      "1   0.0  0.342  0.0  0.0  0.0  0.000  0.000  0.000  0.315  0.0  ...  0.0   \n",
      "2   0.0  0.350  0.0  0.0  0.0  0.000  0.000  0.000  0.000  0.0  ...  0.0   \n",
      "3   0.0  0.000  0.0  0.0  0.0  0.343  0.000  0.000  0.000  0.0  ...  0.0   \n",
      "4   0.0  0.000  0.0  0.0  0.0  0.340  0.000  0.000  0.000  0.0  ...  0.0   \n",
      "..  ...    ...  ...  ...  ...    ...    ...    ...    ...  ...  ...  ...   \n",
      "60  0.0  0.174  0.0  0.0  0.0  0.174  0.174  0.000  0.174  0.0  ...  0.0   \n",
      "61  0.0  0.147  0.0  0.0  0.0  0.147  0.147  0.147  0.000  0.0  ...  0.0   \n",
      "62  0.0  0.000  0.0  0.0  0.0  0.250  0.250  0.000  0.000  0.0  ...  0.0   \n",
      "63  0.0  0.015  0.0  0.0  0.0  0.123  0.123  0.123  0.123  0.0  ...  0.0   \n",
      "64  0.0  0.312  0.0  0.0  0.0  0.000  0.000  0.062  0.000  0.0  ...  0.0   \n",
      "\n",
      "       Si   Sn     Ta     Ti      V    W      Y     Zn   Zr  \n",
      "0   0.312  0.0  0.000  0.000  0.000  0.0  0.000  0.000  0.0  \n",
      "1   0.000  0.0  0.000  0.000  0.000  0.0  0.000  0.000  0.0  \n",
      "2   0.000  0.0  0.000  0.000  0.000  0.0  0.000  0.000  0.0  \n",
      "3   0.327  0.0  0.000  0.000  0.000  0.0  0.000  0.000  0.0  \n",
      "4   0.333  0.0  0.327  0.000  0.000  0.0  0.000  0.000  0.0  \n",
      "..    ...  ...    ...    ...    ...  ...    ...    ...  ...  \n",
      "60  0.000  0.0  0.000  0.000  0.000  0.0  0.000  0.000  0.0  \n",
      "61  0.000  0.0  0.000  0.147  0.000  0.0  0.118  0.000  0.0  \n",
      "62  0.000  0.0  0.000  0.000  0.000  0.0  0.000  0.000  0.0  \n",
      "63  0.000  0.0  0.000  0.123  0.123  0.0  0.000  0.000  0.0  \n",
      "64  0.000  0.0  0.000  0.000  0.000  0.0  0.000  0.156  0.0  \n",
      "\n",
      "[65 rows x 30 columns]\n",
      "['Ag', 'Al', 'B', 'C', 'Ca', 'Co', 'Cr', 'Cu', 'Fe', 'Ga', 'Hf', 'Li', 'Mg', 'Mn', 'Mo', 'Nb', 'Nd', 'Ni', 'Pd', 'Re', 'Sc', 'Si', 'Sn', 'Ta', 'Ti', 'V', 'W', 'Y', 'Zn', 'Zr']\n"
     ]
    }
   ],
   "source": [
    "# Load MPEA datasets\n",
    "mpea_hardness = pd.read_csv(\"/home/jren/pal_project/mpea_clustering/Recommendations.csv\").iloc[:,1:30]\n",
    "recommendations_oct7 = pd.read_csv(\"/home/jren/pal_project/mpea_clustering/Recommendations_Oct7.csv\").iloc[:,1:30]\n",
    "recommendations1 = pd.read_csv(\"/home/jren/pal_project/mpea_clustering/Recommendations1.csv\").iloc[:20,1:30]\n",
    "\n",
    "mpea_hardness = pd.concat([mpea_hardness, recommendations_oct7], ignore_index=True)\n",
    "mpea_hardness = pd.concat([mpea_hardness, recommendations1], ignore_index=True)\n",
    "\n",
    "# Add column for Zr\n",
    "mpea_hardness[\"Zr\"] = 0.0\n",
    "\n",
    "print(mpea_hardness)\n",
    "X = np.array(mpea_hardness)\n",
    "\n",
    "# Elements (colummn labels)\n",
    "elems = list(mpea_hardness.columns)\n",
    "print(elems)"
   ]
  },
  {
   "cell_type": "code",
   "execution_count": 41,
   "metadata": {},
   "outputs": [
    {
     "name": "stdout",
     "output_type": "stream",
     "text": [
      "[0, 44, 0, 2, 1, 34, 22, 13, 18, 0, 3, 7, 12, 8, 19, 13, 0, 13, 0, 0, 0, 19, 4, 9, 17, 16, 8, 4, 10, 0]\n"
     ]
    }
   ],
   "source": [
    "def get_elem_counts(df, elems):\n",
    "    \"\"\"\n",
    "    Get a list of element counts for the given DataFrame\n",
    "    \"\"\"\n",
    "    elem_counts = [0] * len(elems)\n",
    "    for i in range(len(df)):\n",
    "        for j in range(len(elems)):\n",
    "            if (df.loc[i, elems[j]] > 0.0):\n",
    "                elem_counts[j] += 1\n",
    "    return elem_counts\n",
    "\n",
    "elem_counts = get_elem_counts(mpea_hardness, elems)\n",
    "print(elem_counts)"
   ]
  },
  {
   "cell_type": "code",
   "execution_count": 42,
   "metadata": {},
   "outputs": [],
   "source": [
    "def elem_heatmap(elems, elem_counts, cbar_labels=None, save_path=None):\n",
    "    \"\"\"\n",
    "    Plot a heatmap based on element count\n",
    "    \"\"\"\n",
    "\n",
    "    # Plot heat map based on element counts\n",
    "    fig, ax = plt.subplots(figsize=(14,3))\n",
    "\n",
    "    # Create a custom colormap and norm that maps integers to colors\n",
    "    cmap = plt.cm.inferno\n",
    "    max_count = max(elem_counts)\n",
    "    min_count = min(elem_counts)\n",
    "    bounds = np.linspace(min_count, max_count, max_count - min_count + 1)\n",
    "    norm = BoundaryNorm(bounds, cmap.N)\n",
    "\n",
    "    ax.pcolormesh([elem_counts], cmap=cmap, shading='flat')\n",
    "    ax.set_xticks(np.arange(0.5, len(elem_counts), 1))\n",
    "    ax.set_xticklabels(elems, fontsize=14)\n",
    "    ax.set_yticks([])\n",
    "    ax.set_yticklabels([])\n",
    "    ax.set_xlabel(\"Element\", fontsize=16)\n",
    "\n",
    "    # Create a colorbar (legend) \n",
    "    if cbar_labels is None:\n",
    "        cbar_labels = np.linspace(min_count, max_count, 5)\n",
    "    cbar = plt.colorbar(plt.cm.ScalarMappable(cmap=cmap, norm=norm), ticks=cbar_labels)\n",
    "    cbar.ax.set_yticklabels(cbar_labels, fontsize=12)  # Set legend labels\n",
    "\n",
    "    if save_path:\n",
    "        plt.savefig(save_path, bbox_inches='tight')   \n",
    "        print(f\"Saved plot to '{save_path}'\")"
   ]
  },
  {
   "cell_type": "code",
   "execution_count": 43,
   "metadata": {},
   "outputs": [
    {
     "name": "stderr",
     "output_type": "stream",
     "text": [
      "/tmp/ipykernel_10370/1443622778.py:26: MatplotlibDeprecationWarning: Unable to determine Axes to steal space for Colorbar. Using gca(), but will raise in the future. Either provide the *cax* argument to use as the Axes for the Colorbar, provide the *ax* argument to steal space from it, or add *mappable* to an Axes.\n",
      "  cbar = plt.colorbar(plt.cm.ScalarMappable(cmap=cmap, norm=norm), ticks=cbar_labels)\n"
     ]
    },
    {
     "name": "stdout",
     "output_type": "stream",
     "text": [
      "Saved plot to 'pal_recs_heatmap.pdf'\n"
     ]
    },
    {
     "data": {
      "image/png": "[encoded data removed]",
      "text/plain": [
       "<Figure size 1400x300 with 2 Axes>"
      ]
     },
     "metadata": {},
     "output_type": "display_data"
    }
   ],
   "source": [
    "# Plot heatmap for PAL recommendations\n",
    "save_path = \"pal_recs_heatmap.pdf\"\n",
    "cbar_labels = np.linspace(0, 40, 5)\n",
    "elem_heatmap(elems, elem_counts, cbar_labels, save_path)"
   ]
  },
  {
   "cell_type": "markdown",
   "metadata": {},
   "source": [
    "Manufactured Recommendations"
   ]
  },
  {
   "cell_type": "code",
   "execution_count": 44,
   "metadata": {},
   "outputs": [
    {
     "name": "stdout",
     "output_type": "stream",
     "text": [
      "    Ag  Al  B  C  Ca  Co  Cr  Cu  Fe  Ga  ...  Sc  Si  Sn  Ta  Ti  V  W  Y  \\\n",
      "0    0   1  0  0   0   1   1   0   1   0  ...   0   1   0   0   0  0  0  0   \n",
      "1    0   0  0  0   0   1   0   1   1   0  ...   0   0   0   0   0  0  0  0   \n",
      "2    0   0  0  0   0   0   0   0   1   0  ...   0   1   0   0   0  0  0  0   \n",
      "3    0   1  0  0   0   0   0   0   1   0  ...   0   0   0   0   0  0  0  0   \n",
      "4    0   0  0  0   0   1   0   0   0   0  ...   0   1   0   1   0  0  0  0   \n",
      "5    0   0  0  0   0   1   0   0   1   0  ...   0   1   0   0   0  0  0  0   \n",
      "6    0   0  0  0   0   1   0   0   0   0  ...   0   1   0   1   0  0  0  0   \n",
      "7    0   1  0  0   0   0   0   0   0   0  ...   0   0   0   0   0  0  0  0   \n",
      "8    0   0  0  0   0   1   0   0   1   0  ...   0   1   0   0   1  0  1  0   \n",
      "9    0   1  0  0   0   1   0   0   1   0  ...   0   1   0   1   0  0  0  0   \n",
      "10   0   1  0  0   0   1   0   0   0   0  ...   0   0   0   0   0  1  0  0   \n",
      "11   0   1  0  0   0   0   1   0   0   0  ...   0   0   0   0   0  1  0  0   \n",
      "12   0   0  0  0   0   0   0   0   1   0  ...   0   1   0   0   0  1  1  0   \n",
      "13   0   1  0  0   0   1   0   0   0   0  ...   0   1   0   0   0  0  0  0   \n",
      "14   0   0  0  0   0   0   1   0   0   0  ...   0   0   0   0   0  0  0  0   \n",
      "15   0   1  0  0   0   1   0   0   0   0  ...   0   0   0   0   0  1  0  0   \n",
      "16   0   1  0  0   0   1   0   0   0   0  ...   0   0   0   0   1  0  0  0   \n",
      "17   0   1  0  0   0   1   0   0   0   0  ...   0   0   0   0   1  0  0  0   \n",
      "18   0   1  0  0   0   1   0   0   0   0  ...   0   0   0   0   0  1  0  0   \n",
      "19   0   0  0  0   0   0   1   0   0   0  ...   0   1   0   0   0  0  0  0   \n",
      "20   0   1  0  0   0   0   0   0   0   0  ...   0   0   0   0   0  1  1  0   \n",
      "\n",
      "    Zn  Zr  \n",
      "0    0   0  \n",
      "1    0   0  \n",
      "2    0   0  \n",
      "3    0   0  \n",
      "4    0   0  \n",
      "5    0   0  \n",
      "6    0   0  \n",
      "7    0   0  \n",
      "8    0   0  \n",
      "9    0   0  \n",
      "10   0   0  \n",
      "11   0   0  \n",
      "12   0   0  \n",
      "13   0   0  \n",
      "14   0   0  \n",
      "15   0   0  \n",
      "16   0   0  \n",
      "17   0   0  \n",
      "18   0   0  \n",
      "19   0   0  \n",
      "20   0   0  \n",
      "\n",
      "[21 rows x 30 columns]\n",
      "['Ag', 'Al', 'B', 'C', 'Ca', 'Co', 'Cr', 'Cu', 'Fe', 'Ga', 'Hf', 'Li', 'Mg', 'Mn', 'Mo', 'Nb', 'Nd', 'Ni', 'Pd', 'Re', 'Sc', 'Si', 'Sn', 'Ta', 'Ti', 'V', 'W', 'Y', 'Zn', 'Zr']\n",
      "[0, 12, 0, 0, 0, 13, 4, 1, 8, 0, 1, 0, 0, 2, 8, 1, 0, 3, 0, 0, 0, 10, 0, 3, 3, 6, 3, 0, 0, 0]\n"
     ]
    }
   ],
   "source": [
    "# Load MPEA datasets\n",
    "manu_alloys = pd.read_csv(\"/home/jren/pal_project/mpea_clustering/mpea_manufactured_recs.csv\").iloc[:,1:31]\n",
    "\n",
    "print(manu_alloys)\n",
    "X = np.array(manu_alloys)\n",
    "\n",
    "# Elements (colummn labels)\n",
    "elems = list(manu_alloys.columns)\n",
    "print(elems)\n",
    "\n",
    "# Get element counts\n",
    "manu_counts = get_elem_counts(manu_alloys, elems)\n",
    "print(manu_counts)"
   ]
  },
  {
   "cell_type": "code",
   "execution_count": 45,
   "metadata": {},
   "outputs": [
    {
     "name": "stderr",
     "output_type": "stream",
     "text": [
      "/tmp/ipykernel_10370/1443622778.py:26: MatplotlibDeprecationWarning: Unable to determine Axes to steal space for Colorbar. Using gca(), but will raise in the future. Either provide the *cax* argument to use as the Axes for the Colorbar, provide the *ax* argument to steal space from it, or add *mappable* to an Axes.\n",
      "  cbar = plt.colorbar(plt.cm.ScalarMappable(cmap=cmap, norm=norm), ticks=cbar_labels)\n"
     ]
    },
    {
     "name": "stdout",
     "output_type": "stream",
     "text": [
      "Saved plot to 'manufactured_recs_heatmap.pdf'\n"
     ]
    },
    {
     "data": {
      "image/png": "[encoded data removed]",
      "text/plain": [
       "<Figure size 1400x300 with 2 Axes>"
      ]
     },
     "metadata": {},
     "output_type": "display_data"
    }
   ],
   "source": [
    "# Plot heatmap for manufactured recommendations\n",
    "save_path = \"manufactured_recs_heatmap.pdf\"\n",
    "cbar_labels = np.linspace(0, 12, 5)\n",
    "elem_heatmap(elems, manu_counts, cbar_labels, save_path)"
   ]
  },
  {
   "cell_type": "code",
   "execution_count": null,
   "metadata": {},
   "outputs": [],
   "source": []
  }
 ],
 "metadata": {
  "kernelspec": {
   "display_name": "PAL_env",
   "language": "python",
   "name": "python3"
  },
  "language_info": {
   "codemirror_mode": {
    "name": "ipython",
    "version": 3
   },
   "file_extension": ".py",
   "mimetype": "text/x-python",
   "name": "python",
   "nbconvert_exporter": "python",
   "pygments_lexer": "ipython3",
   "version": "3.11.5"
  }
 },
 "nbformat": 4,
 "nbformat_minor": 2
}
